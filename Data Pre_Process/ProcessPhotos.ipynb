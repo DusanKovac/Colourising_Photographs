{
 "cells": [
  {
   "cell_type": "markdown",
   "metadata": {},
   "source": [
    "# Convert Images into NumPy Arrays"
   ]
  },
  {
   "cell_type": "code",
   "execution_count": 9,
   "metadata": {},
   "outputs": [],
   "source": [
    "import os\n",
    "from glob import glob\n",
    "import numpy as np, pandas as pd\n",
    "import matplotlib.pyplot as plt\n",
    "import PIL.Image as Image\n",
    "from math import floor\n",
    "from skimage.color import rgb2lab, lab2rgb, rgb2gray\n",
    "from random import shuffle"
   ]
  },
  {
   "cell_type": "markdown",
   "metadata": {},
   "source": [
    "## Set working Directory and paths for all files"
   ]
  },
  {
   "cell_type": "code",
   "execution_count": 10,
   "metadata": {},
   "outputs": [],
   "source": [
    "pathRoot = \"C:/Users/USER_NAME/Documents/Colourising_Photos/Data/\"\n",
    "\n",
    "path = pathRoot + \"original/*.jpg\"\n",
    "path_lab = pathRoot + \"lab_origin/*.jpg\"\n",
    "\n",
    "blackPath = pathRoot + \"black/\"\n",
    "colPath = pathRoot + \"colour/\"\n",
    "labPath = pathRoot + \"lab/\"\n",
    "labcolPath = pathRoot + \"lab_colour/\"\n",
    "\n",
    "pics = glob(path)\n",
    "pics_512 = glob(path_lab)"
   ]
  },
  {
   "cell_type": "markdown",
   "metadata": {},
   "source": [
    "## Load images and convert to NumPy"
   ]
  },
  {
   "cell_type": "code",
   "execution_count": 11,
   "metadata": {},
   "outputs": [],
   "source": [
    "index = 0\n",
    "for p in pics:\n",
    "\n",
    "    picName = pics[index].split('\\\\')[1].split('.')[0]\n",
    "    img = Image.open(pics[index])\n",
    "     \n",
    "    imgNb = img.convert('L')  \n",
    "\n",
    "    col = np.array(img).astype('float32')\n",
    "    #Normalise 0->1\n",
    "    col /= 255\n",
    "    BW = np.array(imgNb).astype('float32')\n",
    "    #Normalise 0->1\n",
    "    BW /= 255\n",
    "    \n",
    "    # Save images\n",
    "    np.save(colPath + picName ,col)\n",
    "    np.save(blackPath + picName , BW)\n",
    "  \n",
    "    img.close()\n",
    "    index += 1\n",
    "    \n",
    "index = 0;\n",
    "for p in pics_512:\n",
    "    picName = pics_512[index].split('\\\\')[1].split('.')[0]\n",
    "    img = Image.open(pics[index])\n",
    "     \n",
    "    imgLab = rgb2lab(img)\n",
    "\n",
    "    col_lab = np.array(img).astype('float32')\n",
    "    # Normalise from 0->1\n",
    "    col_lab /= 255\n",
    "    lab = np.array(imgLab).astype('float32')\n",
    "    # Normalise from 0->1\n",
    "    lab /= 255\n",
    "    #Save Images\n",
    "    np.save(labcolPath + picName ,col_lab)\n",
    "    np.save(labPath + picName ,lab)\n",
    "  \n",
    "    img.close()\n",
    "    index += 1"
   ]
  },
  {
   "cell_type": "markdown",
   "metadata": {},
   "source": [
    "## Split data into training and validation sets"
   ]
  },
  {
   "cell_type": "code",
   "execution_count": 12,
   "metadata": {},
   "outputs": [],
   "source": [
    "split = 0.85\n",
    "\n",
    "pics = os.listdir(blackPath)\n",
    "shuffle(pics)\n",
    "\n",
    "pics_512 = os.listdir(labPath)\n",
    "shuffle(pics_512)\n",
    "\n",
    "train = pics[0:floor(split * len(pics))]\n",
    "test = pics[floor(split * len(pics)):]  \n",
    "file = open(pathRoot + 'test.txt','a')\n",
    "for j in test:\n",
    "    file.write( j + '\\n')\n",
    "file.close()\n",
    "file = open(pathRoot + 'train.txt','a')\n",
    "for j in train:\n",
    "    file.write( j + '\\n')\n",
    "file.close()\n",
    "\n",
    "train_512 = pics_512[0:floor(split * len(pics))]\n",
    "test_512 = pics_512[floor(split * len(pics)):]  \n",
    "file = open(pathRoot + 'testLab.txt','a')\n",
    "for j in test_512:\n",
    "    file.write( j + '\\n')\n",
    "file.close()\n",
    "file = open(pathRoot + 'trainLab.txt','a')\n",
    "for j in train_512:\n",
    "    file.write( j + '\\n')\n",
    "file.close()"
   ]
  },
  {
   "cell_type": "markdown",
   "metadata": {},
   "source": [
    " "
   ]
  }
 ],
 "metadata": {
  "kernelspec": {
   "display_name": "Python 3",
   "language": "python",
   "name": "python3"
  },
  "language_info": {
   "codemirror_mode": {
    "name": "ipython",
    "version": 3
   },
   "file_extension": ".py",
   "mimetype": "text/x-python",
   "name": "python",
   "nbconvert_exporter": "python",
   "pygments_lexer": "ipython3",
   "version": "3.7.4"
  }
 },
 "nbformat": 4,
 "nbformat_minor": 2
}
