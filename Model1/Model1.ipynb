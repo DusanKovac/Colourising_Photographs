{
 "cells": [
  {
   "cell_type": "markdown",
   "metadata": {},
   "source": [
    "# Model 1: 6 Layers, 3 Conv and then 3 DeConv (Simple Implementation)"
   ]
  },
  {
   "cell_type": "markdown",
   "metadata": {},
   "source": [
    "## Imports"
   ]
  },
  {
   "cell_type": "code",
   "execution_count": null,
   "metadata": {},
   "outputs": [],
   "source": [
    "import os\n",
    "from random import shuffle\n",
    "from math import floor\n",
    "from PIL import Image\n",
    "import numpy as np\n",
    "from tensorflow.keras.layers import Dense, Dropout, Conv2D, Flatten, Input\n",
    "from tensorflow.keras.layers import Reshape, Conv2DTranspose, MaxPooling2D, UpSampling2D\n",
    "from tensorflow.keras.models import Model\n",
    "from tensorflow.keras.callbacks import TensorBoard\n",
    "from tensorflow.keras.backend import int_shape\n",
    "from tensorflow.keras.models import load_model"
   ]
  },
  {
   "cell_type": "markdown",
   "metadata": {},
   "source": [
    "## Set up paths, PLEASE put your path into the os.chdir() or this will not work"
   ]
  },
  {
   "cell_type": "code",
   "execution_count": null,
   "metadata": {},
   "outputs": [],
   "source": [
    "#SET UP HERE CHANGE THE VALUE TO YOUR FILE DIRECTORY\n",
    "os.chdir('C:/Users/YOUR_USER/Documents/Colourising_Photos/')\n",
    "\n",
    "#Setting up path for data\n",
    "pathColor = os.getcwd()+\"/Data/colour/\"\n",
    "pathBW = os.getcwd()+\"/Data/black/\""
   ]
  },
  {
   "cell_type": "markdown",
   "metadata": {},
   "source": [
    "## Create model 1"
   ]
  },
  {
   "cell_type": "code",
   "execution_count": null,
   "metadata": {
    "scrolled": true
   },
   "outputs": [],
   "source": [
    "inputs = Input(name = 'input',shape = (256,256,1))\n",
    "x = inputs\n",
    "index = 0\n",
    "w, h = (256, 256)\n",
    "\n",
    "layer_filters = [32,64,128];\n",
    "\n",
    "for current in layer_filters:\n",
    "    x = Conv2D(filters = current, kernel_size = 3, activation='relu', padding='same', strides= 2)(x)\n",
    "    x = Dropout(0.2)(x)\n",
    "\n",
    "shape = int_shape(x) \n",
    "x = Flatten()(x)\n",
    "x = Dense(256)(x)\n",
    "\n",
    "x = Dense(shape[1]*shape[2]*shape[3])(x)\n",
    "x = Reshape((shape[1],shape[2],shape[3]))(x)\n",
    "\n",
    "index = 2\n",
    "for current in layer_filters[::-1]:\n",
    "    x = Conv2DTranspose(filters = current, kernel_size = 3,  activation='relu', padding=\"same\", strides=2)(x)\n",
    "    x = Dropout(0.2)(x)\n",
    "    index += -1\n",
    "\n",
    "outputs = Conv2DTranspose(filters=3, kernel_size = 3, activation='sigmoid',padding='same')(x)\n",
    "\n",
    "\n",
    "model = Model(inputs, outputs, name='model')\n",
    "model.compile(loss='mse', optimizer='adam',metrics=['accuracy'])"
   ]
  },
  {
   "cell_type": "markdown",
   "metadata": {},
   "source": [
    "## Load datas"
   ]
  },
  {
   "cell_type": "code",
   "execution_count": null,
   "metadata": {},
   "outputs": [],
   "source": [
    "Xtrain = []\n",
    "Ytrain = []\n",
    "Xtest = []\n",
    "Ytest = []\n",
    "file = open(os.getcwd()+'/Data/train.txt')\n",
    "trainFile = file.readlines()\n",
    "file.close()\n",
    "\n",
    "\n",
    "for f in trainFile:\n",
    "    Ytrain.append( np.load(pathColor + f[:-1]))\n",
    "    Xtrain.append( np.load(pathBW + f[:-1]))\n",
    "\n",
    "Xtrain = np.asarray(Xtrain).flatten()\n",
    "Xtrain = Xtrain.reshape(-1,w,h,1)\n",
    "Ytrain = np.asarray(Ytrain).flatten()\n",
    "Ytrain = Ytrain.reshape((-1,w,h,3))\n",
    "    \n",
    "file = open( os.getcwd()+'/Data/test.txt')\n",
    "testFile = file.readlines()\n",
    "file.close()\n",
    "\n",
    "for f in testFile:\n",
    "    Ytest.append( np.load(pathColor + f[:-1]))\n",
    "    Xtest.append( np.load(pathBW + f[:-1]))\n",
    "\n",
    "Xtest = np.asarray(Xtest).flatten()\n",
    "Xtest = Xtest.reshape(-1,w,h,1)\n",
    "Ytest = np.asarray(Ytest).flatten()\n",
    "Ytest = Ytest.reshape((-1,w,h,3))"
   ]
  },
  {
   "cell_type": "markdown",
   "metadata": {},
   "source": [
    "## Training from 0 -> 200 Epochs, every Step saving the results and model weights"
   ]
  },
  {
   "cell_type": "code",
   "execution_count": null,
   "metadata": {},
   "outputs": [],
   "source": [
    "step = 20\n",
    "batch = 22\n",
    "start = 0\n",
    "end = 1000\n",
    "\n",
    "for current in range(start,end,step):\n",
    "    \n",
    "    \n",
    "    model.fit(Xtrain, Ytrain, batch_size=batch, validation_data=(Xtest,Ytest), initial_epoch = current, epochs = current+step)\n",
    "    \n",
    "    #Create file to dump output to\n",
    "    os.mkdir(''+os.getcwd()+'/outputs/Model1/Epoch{}'.format(current + step))\n",
    "    os.mkdir(''+os.getcwd()+'/outputs/Model1/Epoch{}/test'.format(current + step))\n",
    "    os.mkdir(''+os.getcwd()+'/outputs/Model1/Epoch{}/train'.format(current + step))\n",
    " \n",
    "    # Predict\n",
    "    output = model.predict(Xtrain[:])\n",
    "    #Now return the values from 0->1 to 0->255\n",
    "    output *= 255\n",
    "    #Convert from f_32 -> u_int8\n",
    "    output = output.astype('uint8')\n",
    "    #save train images\n",
    "    photo_num = 1\n",
    "    for img in output:\n",
    "        output = Image.fromarray(img)\n",
    "        output.save(''+os.getcwd()+'/outputs/Model1/Epoch{}/train/ouput{}.png'.format(current + step,photo_num))\n",
    "        photo_num += 1\n",
    "        \n",
    "    # Predict\n",
    "    output = model.predict(Xtest[:])\n",
    "    #Now return the values from 0->1 to 0->255\n",
    "    output *= 255\n",
    "    #Convert from f_32 -> u_int8\n",
    "    output = output.astype('uint8')\n",
    "    #Save test images\n",
    "    photo_num = 1\n",
    "    for img in output:\n",
    "        z = Image.fromarray(img)\n",
    "        z.save(''+os.getcwd()+'/outputs/Model1/Epoch{}/test/ouput{}.png'.format(current + step,photo_num))\n",
    "        photo_num += 1    \n",
    "        \n",
    "    #Save model\n",
    "    model.save( \"\"+os.getcwd()+\"/outputs/Model1/Epoch{}/model1_{}.h5\".format(current + step,current + step))"
   ]
  },
  {
   "cell_type": "markdown",
   "metadata": {},
   "source": [
    " "
   ]
  }
 ],
 "metadata": {
  "kernelspec": {
   "display_name": "Python 3",
   "language": "python",
   "name": "python3"
  },
  "language_info": {
   "codemirror_mode": {
    "name": "ipython",
    "version": 3
   },
   "file_extension": ".py",
   "mimetype": "text/x-python",
   "name": "python",
   "nbconvert_exporter": "python",
   "pygments_lexer": "ipython3",
   "version": "3.7.4"
  }
 },
 "nbformat": 4,
 "nbformat_minor": 2
}
