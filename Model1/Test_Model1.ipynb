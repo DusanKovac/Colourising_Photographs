{
 "cells": [
  {
   "cell_type": "markdown",
   "metadata": {},
   "source": [
    "# Test model 1, input your file you want to load"
   ]
  },
  {
   "cell_type": "markdown",
   "metadata": {},
   "source": [
    "## Imports"
   ]
  },
  {
   "cell_type": "code",
   "execution_count": null,
   "metadata": {},
   "outputs": [],
   "source": [
    "import os\n",
    "from glob import glob\n",
    "from math import floor\n",
    "from PIL import Image\n",
    "import numpy as np\n",
    "from tensorflow.keras.preprocessing.image import ImageDataGenerator, array_to_img, img_to_array, load_img\n",
    "from tensorflow.keras.layers import Dense, Dropout, Conv2D, Flatten, Input, UpSampling2D\n",
    "from tensorflow.keras.layers import Conv2D, Conv2DTranspose, Input, Flatten, Dense, Reshape, MaxPooling2D,  MaxPool2D\n",
    "from tensorflow.keras.models import Sequential\n",
    "from tensorflow.keras.models import Model\n",
    "from tensorflow.keras.callbacks import TensorBoard\n",
    "from tensorflow.keras.utils import plot_model\n",
    "from tensorflow.keras.backend import int_shape\n",
    "from tensorflow.keras.models import load_model"
   ]
  },
  {
   "cell_type": "code",
   "execution_count": null,
   "metadata": {},
   "outputs": [],
   "source": [
    "#SET UP HERE CHANGE THE VALUE TO YOUR FILE DIRECTORY\n",
    "os.chdir('C:/Users/YOUR_USER/Documents/Colourising_Photos/')\n",
    "height, width = (256,256)\n",
    "#Setting up path for data\n",
    "inputPath = os.getcwd()+\"/example_inputs/p_256/*.jpg\"\n",
    "outputPath = (os.getcwd()+\"/Test_output/Model1/\")"
   ]
  },
  {
   "cell_type": "markdown",
   "metadata": {},
   "source": [
    "## Create the model to load our weights into"
   ]
  },
  {
   "cell_type": "code",
   "execution_count": null,
   "metadata": {},
   "outputs": [],
   "source": [
    "inputs = Input(name = 'input',shape = (256,256,1))\n",
    "x = inputs\n",
    "index = 0\n",
    "\n",
    "layer_filters = [32,64,128];\n",
    "\n",
    "for current in layer_filters:\n",
    "    x = Conv2D(filters = current, kernel_size = 3, activation='relu', padding='same', strides= 2)(x)\n",
    "    x = Dropout(0.2)(x)\n",
    "\n",
    "shape = int_shape(x) \n",
    "x = Flatten()(x)\n",
    "x = Dense(256)(x)\n",
    "\n",
    "x = Dense(shape[1]*shape[2]*shape[3])(x)\n",
    "x = Reshape((shape[1],shape[2],shape[3]))(x)\n",
    "\n",
    "index = 2\n",
    "for current in layer_filters[::-1]:\n",
    "    x = Conv2DTranspose(filters = current, kernel_size = 3,  activation='relu', padding=\"same\", strides=2)(x)\n",
    "    x = Dropout(0.2)(x)\n",
    "    index += -1\n",
    "\n",
    "outputs = Conv2DTranspose(filters=3, kernel_size = 3, activation='sigmoid',padding='same')(x)\n",
    "\n",
    "\n",
    "model = Model(inputs, outputs, name='model')\n",
    "model.load_weights(\"\"+os.getcwd()+\"/Model1/model1_1000.h5\")\n",
    "\n",
    "model.compile(loss='mse', optimizer='adam',metrics=['accuracy'])"
   ]
  },
  {
   "cell_type": "markdown",
   "metadata": {},
   "source": [
    "### Load in data we want to colourise, using previously defined path"
   ]
  },
  {
   "cell_type": "code",
   "execution_count": null,
   "metadata": {},
   "outputs": [],
   "source": [
    "colourise = []\n",
    "\n",
    "pics = glob(inputPath)\n",
    "index = 0;\n",
    "\n",
    "for p in pics:\n",
    "    #Take photos by value\n",
    "    picName = pics[index].split('\\\\')[1].split('.')[0]\n",
    "    img = Image.open(pics[index])\n",
    "    index += 1\n",
    "    \n",
    "    #in case photo passed is not B&W\n",
    "    imgBW = img.convert('L')  \n",
    "\n",
    "    BW = np.array(imgBW).astype('float32')\n",
    "    BW /= 255\n",
    "    colourise.append(BW)\n",
    "    img.close()\n",
    "\n",
    "colourise = np.asarray(colourise).flatten()\n",
    "colourise = colourise.reshape(-1,width,height,1)\n"
   ]
  },
  {
   "cell_type": "markdown",
   "metadata": {},
   "source": [
    "### Predict and then save to /test_output/"
   ]
  },
  {
   "cell_type": "code",
   "execution_count": null,
   "metadata": {},
   "outputs": [],
   "source": [
    "# Predict\n",
    "output = model.predict(colourise[:])\n",
    "#Now return the values from 0->1 to 0->255\n",
    "output *= 255\n",
    "#Convert from f_32 -> u_int8\n",
    "output = output.astype('uint8')\n",
    "#save train images\n",
    "photo_num = 1\n",
    "for img in output:\n",
    "    output = Image.fromarray(img)\n",
    "    output.save(outputPath+'ouput{}.png'.format(photo_num))\n",
    "    photo_num += 1"
   ]
  },
  {
   "cell_type": "markdown",
   "metadata": {},
   "source": [
    " "
   ]
  }
 ],
 "metadata": {
  "kernelspec": {
   "display_name": "Python 3",
   "language": "python",
   "name": "python3"
  },
  "language_info": {
   "codemirror_mode": {
    "name": "ipython",
    "version": 3
   },
   "file_extension": ".py",
   "mimetype": "text/x-python",
   "name": "python",
   "nbconvert_exporter": "python",
   "pygments_lexer": "ipython3",
   "version": "3.7.4"
  }
 },
 "nbformat": 4,
 "nbformat_minor": 2
}
