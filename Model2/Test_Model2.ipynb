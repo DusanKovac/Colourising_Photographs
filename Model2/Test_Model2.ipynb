{
 "cells": [
  {
   "cell_type": "markdown",
   "metadata": {},
   "source": [
    "# Test model 2, input your file you want to load"
   ]
  },
  {
   "cell_type": "markdown",
   "metadata": {},
   "source": [
    "## Imports"
   ]
  },
  {
   "cell_type": "code",
   "execution_count": null,
   "metadata": {},
   "outputs": [],
   "source": [
    "import os\n",
    "from glob import glob\n",
    "from math import floor\n",
    "from PIL import Image\n",
    "import numpy as np\n",
    "from tensorflow.keras.preprocessing.image import ImageDataGenerator, array_to_img, img_to_array, load_img\n",
    "from tensorflow.keras.layers import Dense, Dropout, Conv2D, Flatten, Input, UpSampling2D\n",
    "from tensorflow.keras.layers import Conv2D, Conv2DTranspose, Input, Flatten, Dense, Reshape, MaxPooling2D,  MaxPool2D\n",
    "from tensorflow.keras.models import Sequential\n",
    "from tensorflow.keras.models import Model\n",
    "from tensorflow.keras.callbacks import TensorBoard\n",
    "from tensorflow.keras.utils import plot_model\n",
    "from tensorflow.keras.backend import int_shape\n",
    "from tensorflow.keras.models import load_model\n",
    "from tensorflow.keras.applications.vgg19 import VGG19"
   ]
  },
  {
   "cell_type": "markdown",
   "metadata": {},
   "source": [
    "### Set up working dirsand paths, PLEASE chdir to your path!!!!"
   ]
  },
  {
   "cell_type": "code",
   "execution_count": null,
   "metadata": {},
   "outputs": [],
   "source": [
    "#SET UP HERE CHANGE THE VALUE TO YOUR FILE DIRECTORY\n",
    "os.chdir('C:/Users/YOUR_USER/Documents/Colourising_Photos/')\n",
    "height, width = (256,256)\n",
    "#Setting up path for data\n",
    "inputPath = os.getcwd()+\"/example_inputs/p_256/*.jpg\"\n",
    "outputPath = (os.getcwd()+\"/Test_output/Model1\")"
   ]
  },
  {
   "cell_type": "markdown",
   "metadata": {},
   "source": [
    "## Create the model to load our weights into"
   ]
  },
  {
   "cell_type": "code",
   "execution_count": null,
   "metadata": {},
   "outputs": [],
   "source": [
    "vgg19 = VGG19(include_top=False, weights='imagenet' ,input_tensor=None,  pooling=None, input_shape=(width,height,3), classes=1000)"
   ]
  },
  {
   "cell_type": "code",
   "execution_count": null,
   "metadata": {},
   "outputs": [],
   "source": [
    "\n",
    "#Create input, take 256x256 photographs, this can be changed at a later date.\n",
    "inputs = Input(name='Model2_Input', shape=(256,256,1)  )\n",
    "x = Conv2D(filters=3,kernel_size=3, activation='relu',padding='same')(inputs)\n",
    "\n",
    "#Input part of the VGG19 model, not all layers.\n",
    "for lyr in vgg19.layers[:-13]:\n",
    "    x = lyr(x)\n",
    "    x.trainable=False\n",
    "\n",
    "#Perform two transpose conv's for 128x128,128, and 256x256,3 shapes\n",
    "x = Conv2DTranspose(kernel_size=3,activation='relu',strides = 2 , padding='same',filters=128)(x)\n",
    "x = Conv2DTranspose(kernel_size=3,activation='relu',strides = 2 , padding='same',filters=3)(x)\n",
    "\n",
    "#finish the model\n",
    "model = Model(inputs, x, name='model2')\n",
    "\n",
    "#Load all of our weights\n",
    "model.load_weights(\"\"+os.getcwd()+\"/Model2/model2_920.h5\")\n",
    "#Compile using MSE for loss, and adam optimiser\n",
    "model.compile(loss='mse', optimizer='adam',metrics=['accuracy'])\n"
   ]
  },
  {
   "cell_type": "markdown",
   "metadata": {},
   "source": [
    "### Input data to colourise"
   ]
  },
  {
   "cell_type": "code",
   "execution_count": null,
   "metadata": {},
   "outputs": [],
   "source": [
    "colourise = []\n",
    "\n",
    "pics = glob(inputPath)\n",
    "index = 0;\n",
    "\n",
    "for p in pics:\n",
    "    #Take photos by value\n",
    "    picName = pics[index].split('\\\\')[1].split('.')[0]\n",
    "    img = Image.open(pics[index])\n",
    "    index += 1\n",
    "     \n",
    "    imgBW = img.convert('L')  \n",
    "\n",
    "    BW = np.array(imgBW).astype('float32')\n",
    "    BW /= 255\n",
    "    colourise.append(BW)\n",
    "    img.close()\n",
    "\n",
    "colourise = np.asarray(colourise).flatten()\n",
    "colourise = colourise.reshape(-1,width,height,1)\n"
   ]
  },
  {
   "cell_type": "markdown",
   "metadata": {},
   "source": [
    "### Outputs Data to /test_output/ file"
   ]
  },
  {
   "cell_type": "code",
   "execution_count": null,
   "metadata": {},
   "outputs": [],
   "source": [
    "# Predict\n",
    "output = model.predict(colourise[:])\n",
    "#Now return the values from 0->1 to 0->255\n",
    "output *= 255\n",
    "#Convert from f_32 -> u_int8\n",
    "output = output.astype('uint8')\n",
    "#save train images\n",
    "photo_num = 1\n",
    "for img in output:\n",
    "    output = Image.fromarray(img)\n",
    "    output.save(''+os.getcwd()+'/Test_output/Model2/ouput{}.png'.format(photo_num))\n",
    "    photo_num += 1"
   ]
  },
  {
   "cell_type": "markdown",
   "metadata": {},
   "source": [
    " "
   ]
  }
 ],
 "metadata": {
  "kernelspec": {
   "display_name": "Python 3",
   "language": "python",
   "name": "python3"
  },
  "language_info": {
   "codemirror_mode": {
    "name": "ipython",
    "version": 3
   },
   "file_extension": ".py",
   "mimetype": "text/x-python",
   "name": "python",
   "nbconvert_exporter": "python",
   "pygments_lexer": "ipython3",
   "version": "3.7.4"
  }
 },
 "nbformat": 4,
 "nbformat_minor": 2
}
